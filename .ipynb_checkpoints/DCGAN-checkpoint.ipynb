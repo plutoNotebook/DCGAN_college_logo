{
 "cells": [
  {
   "cell_type": "code",
   "execution_count": 31,
   "id": "fab86256",
   "metadata": {},
   "outputs": [],
   "source": [
    "import os\n",
    "import cv2\n",
    "import numpy as np\n",
    "import matplotlib.pyplot as plt\n",
    "from PIL import Image"
   ]
  },
  {
   "cell_type": "code",
   "execution_count": 32,
   "id": "e5c6f572",
   "metadata": {
    "scrolled": true
   },
   "outputs": [
    {
     "name": "stdout",
     "output_type": "stream",
     "text": [
      ".DS_Store\n"
     ]
    },
    {
     "data": {
      "text/plain": [
       "[((250, 250), 19)]"
      ]
     },
     "execution_count": 32,
     "metadata": {},
     "output_type": "execute_result"
    }
   ],
   "source": [
    "from collections import Counter\n",
    "\n",
    "rest = []\n",
    "image_list = []\n",
    "\n",
    "PATH = 'logo_images'\n",
    "size_list = []\n",
    "file_names = os.listdir('logo_images')\n",
    "\n",
    "for name in file_names:\n",
    "    try:\n",
    "        img = Image.open(os.path.join(PATH, name)).convert('RGBA')\n",
    "        bg = Image.new('RGBA', img.size, (255, 255, 255))\n",
    "        result = Image.alpha_composite(bg, img)\n",
    "        size = img.size\n",
    "        image_list.append(img)\n",
    "        size_list.append(size)\n",
    "    except:\n",
    "        print(name)\n",
    "\n",
    "Counter(size_list).most_common(1)"
   ]
  },
  {
   "cell_type": "code",
   "execution_count": 33,
   "id": "03c88a11",
   "metadata": {
    "scrolled": true
   },
   "outputs": [
    {
     "data": {
      "text/plain": [
       "(437, 438)"
      ]
     },
     "execution_count": 33,
     "metadata": {},
     "output_type": "execute_result"
    }
   ],
   "source": [
    "len(image_list), len(file_names)"
   ]
  },
  {
   "cell_type": "markdown",
   "id": "5e67c984",
   "metadata": {},
   "source": [
    "# Preprocessing"
   ]
  },
  {
   "cell_type": "code",
   "execution_count": 34,
   "id": "3dc5b846",
   "metadata": {
    "scrolled": false
   },
   "outputs": [],
   "source": [
    "resized = []\n",
    "\n",
    "for img in image_list:\n",
    "    resized.append(img.resize((224,224)))"
   ]
  },
  {
   "cell_type": "code",
   "execution_count": 35,
   "id": "085b3428",
   "metadata": {},
   "outputs": [],
   "source": [
    "import imgaug.augmenters as iaa\n",
    "\n",
    "datas = []\n",
    "\n",
    "seq = iaa.Sequential([\n",
    "    iaa.Fliplr(0.5),\n",
    "    iaa.Crop(percent=(0, 0.1)), \n",
    "    iaa.Affine(rotate=(-20, 20), shear=(-10, 10)) \n",
    "])\n",
    "\n",
    "\n",
    "for img in resized:\n",
    "    aug_img = seq(image=np.array(img))\n",
    "    datas.append(Image.fromarray(aug_img))\n",
    "    \n",
    "train_data = datas + resized"
   ]
  },
  {
   "cell_type": "code",
   "execution_count": 36,
   "id": "ef636b41",
   "metadata": {},
   "outputs": [
    {
     "data": {
      "text/plain": [
       "874"
      ]
     },
     "execution_count": 36,
     "metadata": {},
     "output_type": "execute_result"
    }
   ],
   "source": [
    "assert len(image_list) == len(resized) \n",
    "len(train_data)"
   ]
  },
  {
   "cell_type": "code",
   "execution_count": 37,
   "id": "7aa50fcd",
   "metadata": {},
   "outputs": [],
   "source": [
    "os.makedirs('train_images')\n",
    "\n",
    "for i, img in enumerate(train_data):\n",
    "    filename = f\"image{i+1}.png\"\n",
    "    img.save(os.path.join('train_images', filename))"
   ]
  },
  {
   "cell_type": "markdown",
   "id": "afa654d2",
   "metadata": {},
   "source": [
    "# Modeling"
   ]
  },
  {
   "cell_type": "code",
   "execution_count": 38,
   "id": "a0782506",
   "metadata": {},
   "outputs": [],
   "source": [
    "dataroot = 'train_images'\n",
    "\n",
    "batch_size = 32\n",
    "\n",
    "image_size = 224\n",
    "\n",
    "RGB = 3\n",
    "\n",
    "dimz = 100\n",
    "\n",
    "num_epochs = 10\n",
    "\n",
    "lr = 0.0002\n",
    "\n",
    "beta1 = 0.5"
   ]
  },
  {
   "cell_type": "code",
   "execution_count": 39,
   "id": "1cac549c",
   "metadata": {},
   "outputs": [],
   "source": [
    "import torch\n",
    "import torch.nn as nn\n",
    "import torch.optim as optim\n",
    "import torchvision.transforms as transforms\n",
    "import torchvision.utils as vutils\n",
    "from torch.utils.data import Dataset\n",
    "import matplotlib.animation as animation\n",
    "\n",
    "\n",
    "class Dataset(Dataset):\n",
    "    def __init__(self, root_dir, transform=None):\n",
    "        self.root_dir = root_dir\n",
    "        self.transform = transform\n",
    "        self.image_list = os.listdir(root_dir)\n",
    "\n",
    "    def __len__(self):\n",
    "        return len(self.image_list)\n",
    "\n",
    "    def __getitem__(self, idx):\n",
    "        img_name = os.path.join(self.root_dir, self.image_list[idx])\n",
    "        image = Image.open(img_name).convert('RGB')\n",
    "        if self.transform:\n",
    "            image = self.transform(image)\n",
    "        return image\n",
    "    \n",
    "transform = transforms.Compose([\n",
    "                            transforms.ToTensor(),\n",
    "                            transforms.Normalize((0.5, 0.5, 0.5), (0.5, 0.5, 0.5)),\n",
    "                            ])\n",
    "\n",
    "dataset = Dataset(dataroot, transform)\n",
    "dataloader = torch.utils.data.DataLoader(dataset, batch_size=batch_size,\n",
    "                                         shuffle=True)\n",
    "\n",
    "device = torch.device(\"mps\" if torch.backends.mps.is_available() else \"cpu\")"
   ]
  },
  {
   "cell_type": "code",
   "execution_count": 54,
   "id": "f1a8f0f3",
   "metadata": {
    "scrolled": true
   },
   "outputs": [
    {
     "data": {
      "text/plain": [
       "device(type='mps')"
      ]
     },
     "execution_count": 54,
     "metadata": {},
     "output_type": "execute_result"
    }
   ],
   "source": [
    "device"
   ]
  },
  {
   "cell_type": "code",
   "execution_count": null,
   "id": "267f0487",
   "metadata": {},
   "outputs": [],
   "source": [
    "batch = next(iter(dataloader))\n",
    "plt.figure(figsize=(8,8))\n",
    "plt.axis(\"off\")\n",
    "plt.title(\"Training Images\")\n",
    "plt.imshow(np.transpose(vutils.make_grid(batch.to(device)[:64], padding=2, normalize=True).cpu(),(1,2,0)))\n",
    "plt.show()"
   ]
  }
 ],
 "metadata": {
  "kernelspec": {
   "display_name": "Python 3 (ipykernel)",
   "language": "python",
   "name": "python3"
  },
  "language_info": {
   "codemirror_mode": {
    "name": "ipython",
    "version": 3
   },
   "file_extension": ".py",
   "mimetype": "text/x-python",
   "name": "python",
   "nbconvert_exporter": "python",
   "pygments_lexer": "ipython3",
   "version": "3.9.7"
  }
 },
 "nbformat": 4,
 "nbformat_minor": 5
}
