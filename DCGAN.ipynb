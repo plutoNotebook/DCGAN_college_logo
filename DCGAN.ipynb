{
 "cells": [
  {
   "cell_type": "code",
   "execution_count": 89,
   "id": "fab86256",
   "metadata": {},
   "outputs": [],
   "source": [
    "import os\n",
    "import cv2\n",
    "import numpy as np\n",
    "import matplotlib.pyplot as plt\n",
    "from PIL import Image"
   ]
  },
  {
   "cell_type": "code",
   "execution_count": 104,
   "id": "e5c6f572",
   "metadata": {
    "scrolled": false
   },
   "outputs": [
    {
     "name": "stderr",
     "output_type": "stream",
     "text": [
      "libpng warning: iCCP: known incorrect sRGB profile\n",
      "libpng warning: iCCP: known incorrect sRGB profile\n",
      "libpng warning: iCCP: known incorrect sRGB profile\n",
      "libpng warning: iCCP: known incorrect sRGB profile\n",
      "libpng warning: iCCP: known incorrect sRGB profile\n",
      "libpng warning: iCCP: known incorrect sRGB profile\n",
      "libpng warning: iCCP: cHRM chunk does not match sRGB\n",
      "libpng warning: iCCP: known incorrect sRGB profile\n",
      "libpng warning: iCCP: known incorrect sRGB profile\n",
      "libpng warning: iCCP: known incorrect sRGB profile\n",
      "libpng warning: iCCP: known incorrect sRGB profile\n",
      "libpng warning: iCCP: known incorrect sRGB profile\n",
      "libpng warning: iCCP: known incorrect sRGB profile\n",
      "libpng warning: iCCP: known incorrect sRGB profile\n"
     ]
    },
    {
     "data": {
      "text/plain": [
       "[((250, 250, 3), 19)]"
      ]
     },
     "execution_count": 104,
     "metadata": {},
     "output_type": "execute_result"
    }
   ],
   "source": [
    "from collections import Counter\n",
    "\n",
    "rest = []\n",
    "image_list = []\n",
    "\n",
    "PATH = 'logo_images'\n",
    "size_list = []\n",
    "file_names = os.listdir('logo_images')\n",
    "\n",
    "for name in file_names:\n",
    "    img = cv2.imread(os.path.join(PATH, name))\n",
    "    \n",
    "    try:\n",
    "        size = img.shape\n",
    "        image_list.append(img)\n",
    "        size_list.append(size)\n",
    "        \n",
    "    except:\n",
    "        rest.append(name)\n",
    "\n",
    "Counter(size_list).most_common(1)"
   ]
  },
  {
   "cell_type": "code",
   "execution_count": 105,
   "id": "03c88a11",
   "metadata": {},
   "outputs": [
    {
     "data": {
      "text/plain": [
       "(423, 438)"
      ]
     },
     "execution_count": 105,
     "metadata": {},
     "output_type": "execute_result"
    }
   ],
   "source": [
    "len(image_list), len(file_names)"
   ]
  },
  {
   "cell_type": "code",
   "execution_count": 106,
   "id": "b869b297",
   "metadata": {},
   "outputs": [
    {
     "data": {
      "text/plain": [
       "['.DS_Store',\n",
       " '[크기변환]김해대학교.gif',\n",
       " '경상대학교.gif',\n",
       " '김해대학교.gif',\n",
       " '덕성여자대학교.gif',\n",
       " '동양대학교.gif',\n",
       " '부경대학교.gif',\n",
       " '서강대학교.gif',\n",
       " '서울디지털대학교.gif',\n",
       " '울산대학교.gif',\n",
       " '한경대학교.gif',\n",
       " '한국외국어대학교.gif',\n",
       " '한국항공대학교.gif',\n",
       " '한남대학교.gif',\n",
       " '호남대학교.gif']"
      ]
     },
     "execution_count": 106,
     "metadata": {},
     "output_type": "execute_result"
    }
   ],
   "source": [
    "rest = sorted(rest)\n",
    "rest"
   ]
  },
  {
   "cell_type": "code",
   "execution_count": 107,
   "id": "e8aba9ad",
   "metadata": {
    "scrolled": false
   },
   "outputs": [],
   "source": [
    "rest_img = []\n",
    "\n",
    "os.makedirs('rest_images')\n",
    "\n",
    "for name in rest:\n",
    "    if name.find('gif') != -1:\n",
    "        gif = os.path.join(PATH, name)\n",
    "        img = Image.open(gif)\n",
    "        new_name = name[:-4]+\".png\"\n",
    "        img.save(f\"rest_images/{new_name}\", 'png', optimize=True)\n",
    "        image = cv2.imread(os.path.join(\"rest_images\", new_name))\n",
    "        rest_img.append(image)"
   ]
  },
  {
   "cell_type": "code",
   "execution_count": 108,
   "id": "951ff48a",
   "metadata": {},
   "outputs": [],
   "source": [
    "image_list = image_list + rest_img"
   ]
  },
  {
   "cell_type": "code",
   "execution_count": 109,
   "id": "2233c3fa",
   "metadata": {},
   "outputs": [
    {
     "data": {
      "text/plain": [
       "(438, 437)"
      ]
     },
     "execution_count": 109,
     "metadata": {},
     "output_type": "execute_result"
    }
   ],
   "source": [
    "len(file_names), len(image_list)"
   ]
  },
  {
   "cell_type": "markdown",
   "id": "5e67c984",
   "metadata": {},
   "source": [
    "# Preprocessing"
   ]
  },
  {
   "cell_type": "code",
   "execution_count": 110,
   "id": "3dc5b846",
   "metadata": {
    "scrolled": false
   },
   "outputs": [],
   "source": [
    "resized = []\n",
    "\n",
    "for i, img in enumerate(image_list):\n",
    "    try:\n",
    "        res = cv2.resize(img, (224, 224))\n",
    "        resized.append(res)\n",
    "    except:\n",
    "        print(i)"
   ]
  },
  {
   "cell_type": "code",
   "execution_count": 114,
   "id": "085b3428",
   "metadata": {},
   "outputs": [],
   "source": [
    "import imgaug.augmenters as iaa\n",
    "\n",
    "datas = []\n",
    "\n",
    "seq = iaa.Sequential([\n",
    "    iaa.Fliplr(0.5),\n",
    "    iaa.Crop(percent=(0, 0.1)), \n",
    "    iaa.GaussianBlur(sigma=(0, 3.0)), \n",
    "    iaa.AdditiveGaussianNoise(loc=0, scale=(0.0, 0.05*255), per_channel=0.5),\n",
    "    iaa.Multiply((0.5, 1.5), per_channel=0.5), \n",
    "    iaa.Affine(rotate=(-20, 20), shear=(-10, 10)) \n",
    "])\n",
    "\n",
    "for img in resized:\n",
    "    new_img = seq(image=img)\n",
    "    datas.append(new_img)\n",
    "    \n",
    "train_data = datas + resized"
   ]
  },
  {
   "cell_type": "code",
   "execution_count": 117,
   "id": "ef636b41",
   "metadata": {},
   "outputs": [
    {
     "data": {
      "text/plain": [
       "874"
      ]
     },
     "execution_count": 117,
     "metadata": {},
     "output_type": "execute_result"
    }
   ],
   "source": [
    "assert len(image_list) == len(resized) \n",
    "len(train_data)"
   ]
  },
  {
   "cell_type": "code",
   "execution_count": 120,
   "id": "7aa50fcd",
   "metadata": {},
   "outputs": [],
   "source": [
    "os.makedirs('train_images')\n",
    "\n",
    "for i, image in enumerate(train_data):\n",
    "    filename = f'image_{i}.jpg'\n",
    "    filepath = os.path.join('train_images', filename) \n",
    "    cv2.imwrite(filepath, image) "
   ]
  },
  {
   "cell_type": "markdown",
   "id": "afa654d2",
   "metadata": {},
   "source": [
    "# Modeling"
   ]
  },
  {
   "cell_type": "code",
   "execution_count": 122,
   "id": "a0782506",
   "metadata": {},
   "outputs": [],
   "source": [
    "dataroot = 'train_images'\n",
    "\n",
    "batch_size = 32\n",
    "\n",
    "image_size = 224\n",
    "\n",
    "RGB = 3\n",
    "\n",
    "dimz = 100\n",
    "\n",
    "num_epochs = 10\n",
    "\n",
    "lr = 0.0002\n",
    "\n",
    "beta1 = 0.5"
   ]
  },
  {
   "cell_type": "code",
   "execution_count": 124,
   "id": "1cac549c",
   "metadata": {},
   "outputs": [],
   "source": [
    "import torch\n",
    "import torch.nn as nn\n",
    "import torch.optim as optim\n",
    "import torchvision.transforms as transforms\n",
    "import torchvision.utils as vutils\n",
    "from torch.utils.data import Dataset\n",
    "import matplotlib.animation as animation\n",
    "\n",
    "\n",
    "class Dataset(Dataset):\n",
    "    def __init__(self, root_dir, transform=None):\n",
    "        self.root_dir = root_dir\n",
    "        self.transform = transform\n",
    "        self.image_list = os.listdir(root_dir)\n",
    "\n",
    "    def __len__(self):\n",
    "        return len(self.image_list)\n",
    "\n",
    "    def __getitem__(self, idx):\n",
    "        img_name = os.path.join(self.root_dir, self.image_list[idx])\n",
    "        image = Image.open(img_name).convert('RGB')\n",
    "        if self.transform:\n",
    "            image = self.transform(image)\n",
    "        return image\n",
    "    \n",
    "transform = transforms.Compose([\n",
    "                            transforms.ToTensor(),\n",
    "                            transforms.Normalize((0.5, 0.5, 0.5), (0.5, 0.5, 0.5)),\n",
    "                            ])\n",
    "\n",
    "dataset = Dataset(dataroot, transform)\n",
    "dataloader = torch.utils.data.DataLoader(dataset, batch_size=batch_size,\n",
    "                                         shuffle=True)\n",
    "\n",
    "device = torch.device(\"mps\" if torch.backends.mps.is_available() else \"cpu\")\n",
    "\n",
    "#plt.figure(figsize=(8,8))\n",
    "#plt.axis(\"off\")\n",
    "#plt.title(\"Training Images\")\n",
    "#plt.imshow(np.transpose(vutils.make_grid(real_batch[0].to(device)[:64], padding=2, normalize=True).cpu(),(1,2,0)))"
   ]
  },
  {
   "cell_type": "code",
   "execution_count": null,
   "id": "267f0487",
   "metadata": {},
   "outputs": [],
   "source": [
    "batch = next(iter(dataloader))"
   ]
  }
 ],
 "metadata": {
  "kernelspec": {
   "display_name": "Python 3 (ipykernel)",
   "language": "python",
   "name": "python3"
  },
  "language_info": {
   "codemirror_mode": {
    "name": "ipython",
    "version": 3
   },
   "file_extension": ".py",
   "mimetype": "text/x-python",
   "name": "python",
   "nbconvert_exporter": "python",
   "pygments_lexer": "ipython3",
   "version": "3.9.7"
  }
 },
 "nbformat": 4,
 "nbformat_minor": 5
}
