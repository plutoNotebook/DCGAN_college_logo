{
 "cells": [
  {
   "cell_type": "code",
   "execution_count": 1,
   "metadata": {},
   "outputs": [],
   "source": [
    "import os\n",
    "import cv2\n",
    "import numpy as np\n",
    "import matplotlib.pyplot as plt\n",
    "from PIL import Image\n",
    "import random"
   ]
  },
  {
   "cell_type": "code",
   "execution_count": null,
   "metadata": {},
   "outputs": [],
   "source": [
    "PATH = 'train_data'\n",
    "\n",
    "file_names = os.listdir(PATH)\n",
    "\n",
    "os.makedirs('train_data')\n",
    "\n",
    "for i, name in enumerate(file_names):\n",
    "    img = Image.open(os.path.join(PATH, name)).convert('RGBA')\n",
    "    background = Image.new('RGBA', img.size, (255, 255, 255, 255))\n",
    "    result = Image.alpha_composite(background, img).convert('RGB')\n",
    "    result = result.resize((64, 64))\n",
    "    result.save(f'train_data/image{i}.png', 'png')"
   ]
  },
  {
   "cell_type": "code",
   "execution_count": null,
   "metadata": {},
   "outputs": [],
   "source": [
    "import imgaug.augmenters as iaa\n",
    "from PIL import Image\n",
    "\n",
    "# 이미지를 PIL 이미지로 로드합니다.\n",
    "img = Image.open('image.jpg')\n",
    "\n",
    "# imgaug augmentation 객체를 생성합니다.\n",
    "aug = iaa.Sequential([\n",
    "    iaa.Rotate((-45, 45)),  # -45도에서 45도 사이에서 회전합니다.\n",
    "    iaa.PadToAspectRatio(1.0),  # 이미지의 종횡비를 1.0으로 유지합니다.\n",
    "    iaa.Fill(1),  # 회전된 영역을 흰색으로 채웁니다.\n",
    "])\n",
    "\n",
    "# augmentation을 적용합니다.\n",
    "aug_img = aug.augment_image(img)\n",
    "\n",
    "# 결과 이미지를 저장합니다.\n",
    "aug_img.save('augmented_image.jpg')\n",
    "\n",
    "import imgaug.augmenters as iaa\n",
    "from PIL import Image\n",
    "\n",
    "# Load image\n",
    "img = Image.open(\"image.jpg\")\n",
    "\n",
    "# Define augmentation sequence\n",
    "seq = iaa.Sequential([\n",
    "    iaa.Resize((224, 224)),\n",
    "    iaa.Flipud(p=0.5),\n",
    "    iaa.Affine(rotate=(-25, 25)),\n",
    "    iaa.GaussianBlur(sigma=(0, 3.0)),\n",
    "    iaa.AdditiveGaussianNoise(scale=(0, 0.05*255)),\n",
    "    iaa.AddToHueAndSaturation(value=(-10, 10), per_channel=True)\n",
    "])\n",
    "\n",
    "# Apply augmentation\n",
    "aug_img = seq(image=img)\n",
    "\n",
    "# Save augmented image\n",
    "aug_img.save(\"augmented_image.jpg\")\n",
    "\n",
    "                            \n",
    "\n",
    "\n"
   ]
  }
 ],
 "metadata": {
  "kernelspec": {
   "display_name": "Python 3",
   "language": "python",
   "name": "python3"
  },
  "language_info": {
   "codemirror_mode": {
    "name": "ipython",
    "version": 3
   },
   "file_extension": ".py",
   "mimetype": "text/x-python",
   "name": "python",
   "nbconvert_exporter": "python",
   "pygments_lexer": "ipython3",
   "version": "3.9.13"
  },
  "orig_nbformat": 4
 },
 "nbformat": 4,
 "nbformat_minor": 2
}
